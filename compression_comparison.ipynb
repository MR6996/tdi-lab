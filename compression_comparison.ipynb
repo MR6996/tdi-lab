{
 "cells": [
  {
   "cell_type": "markdown",
   "metadata": {},
   "source": [
    "# Compression comparsion on Sturmian words"
   ]
  },
  {
   "cell_type": "code",
   "execution_count": 22,
   "metadata": {},
   "outputs": [],
   "source": [
    "from compression.LZ77 import LZ77Compressor\n",
    "from SturmGenerator import sturmian\n",
    "\n",
    "import random\n",
    "import numpy as np\n",
    "import matplotlib.pyplot as plt\n",
    "\n",
    "\n",
    "plt.rcParams['figure.figsize'] = [10, 5]"
   ]
  },
  {
   "cell_type": "markdown",
   "metadata": {},
   "source": [
    "## Parameters"
   ]
  },
  {
   "cell_type": "code",
   "execution_count": 23,
   "metadata": {},
   "outputs": [],
   "source": [
    "n = 10\n",
    "max_range = 4\n",
    "\n",
    "seeds = [42,56,95,45,62]"
   ]
  },
  {
   "cell_type": "markdown",
   "metadata": {},
   "source": [
    "## Generating Sturmian words"
   ]
  },
  {
   "cell_type": "code",
   "execution_count": 24,
   "metadata": {
    "scrolled": true
   },
   "outputs": [
    {
     "name": "stdout",
     "output_type": "stream",
     "text": [
      "[+] Word lenghts:\n",
      "[-] 1983\n",
      "[-] 23423\n",
      "[-] 3350\n",
      "[-] 39481\n",
      "[-] 9806\n"
     ]
    }
   ],
   "source": [
    "sturmian_integers = []\n",
    "for s in seeds:\n",
    "    random.seed(s)\n",
    "    sturmian_integers += [[ random.randint(1, max_range) for i in range(n)]]\n",
    "    \n",
    "sturmian_words = [sturmian(integers) for integers in sturmian_integers]\n",
    "\n",
    "print('[+] Word lenghts:')\n",
    "for word in sturmian_words:\n",
    "    print('[-]', len(word))"
   ]
  },
  {
   "cell_type": "markdown",
   "metadata": {},
   "source": [
    "## Lempel-Ziv 77 Results"
   ]
  },
  {
   "cell_type": "code",
   "execution_count": 25,
   "metadata": {},
   "outputs": [
    {
     "data": {
      "text/plain": [
       "array([[ 327,  137,  137,  137,   61,   61,   61,   61,   61,   61,   61,\n",
       "          27,   27,   27,   27,   27,   27,   27,   27,   27,   27,   27,\n",
       "          27,   27,   27,   27,   27,   27,   19,   19,   19,   19,   19,\n",
       "          19,   19,   19,   19,   19,   19,   19,   19,   17,   17,   17,\n",
       "          17,   17,   17,   17,   17,   17],\n",
       "       [4871, 1511, 1511, 1511, 1511,  349,  349,  349,  349,  349,  349,\n",
       "         349,  349,  349,  349,  349,  349,  349,  349,  349,  349,  349,\n",
       "         349,  349,  129,  129,  129,  129,  129,  129,  129,  129,  129,\n",
       "         129,  129,  129,  129,  129,  129,  129,  129,  129,  129,  129,\n",
       "         129,  129,  129,  129,  129,  129],\n",
       "       [ 443,  443,  127,  127,  127,  127,  127,  127,   75,   75,   75,\n",
       "          59,   59,   59,   59,   59,   59,   59,   59,   59,   23,   23,\n",
       "          23,   23,   23,   23,   23,   23,   23,   23,   23,   23,   23,\n",
       "          23,   23,   23,   23,   23,   23,   23,   23,   23,   23,   23,\n",
       "          23,   23,   23,   23,   23,   23],\n",
       "       [4403, 4403, 1035, 1035, 1035, 1035, 1035, 1035, 1035, 1035, 1035,\n",
       "        1035, 1035,  277,  277,  277,  277,  277,  277,  277,  277,  277,\n",
       "         277,  277,  277,  277,  277,  277,  277,  277,  277,  277,  277,\n",
       "         277,  277,  277,  277,  277,  277,  277,  277,  277,  277,  277,\n",
       "         277,  277,  215,  215,  215,  215],\n",
       "       [1647,  385,  385,  385,  385,  385,  385,  385,  385,  121,  121,\n",
       "         121,  121,  121,  121,  121,  121,  121,  121,  121,  121,  121,\n",
       "         121,  121,  121,  121,  121,  121,  121,  121,   39,   39,   39,\n",
       "          39,   39,   39,   39,   39,   39,   39,   39,   39,   39,   39,\n",
       "          39,   39,   39,   39,   39,   39]])"
      ]
     },
     "execution_count": 25,
     "metadata": {},
     "output_type": "execute_result"
    }
   ],
   "source": [
    "w_sizes = np.arange(7,255, 5, dtype=np.int)\n",
    "lenghts = np.zeros((len(sturmian_words), w_sizes.size), dtype=np.int)\n",
    "\n",
    "for i in range(w_sizes.size):\n",
    "    lz77 = LZ77Compressor(w_size=w_sizes[i])\n",
    "    \n",
    "    for j in range(len(sturmian_words)):\n",
    "        compressed = lz77.compress(sturmian_words[j])\n",
    "        lenghts[j,i] = len(compressed)\n",
    "        \n",
    "lenghts"
   ]
  },
  {
   "cell_type": "code",
   "execution_count": 28,
   "metadata": {},
   "outputs": [
    {
     "data": {
      "text/plain": [
       "Text(0.5,1,'LZ77 compare')"
      ]
     },
     "execution_count": 28,
     "metadata": {},
     "output_type": "execute_result"
    },
    {
     "data": {
      "image/png": "[encoded data removed]",
      "text/plain": [
       "<matplotlib.figure.Figure at 0xcbf1cf8>"
      ]
     },
     "metadata": {
      "needs_background": "light"
     },
     "output_type": "display_data"
    }
   ],
   "source": [
    "for j in range(len(sturmian_words)):\n",
    "    plt.plot(w_sizes, lenghts[j,:])\n",
    "\n",
    "plt.legend()\n",
    "plt.xlabel('Window size')\n",
    "plt.ylabel('# of tuple')\n",
    "plt.title('LZ77 compare')"
   ]
  }
 ],
 "metadata": {
  "kernelspec": {
   "display_name": "Python 3",
   "language": "python",
   "name": "python3"
  },
  "language_info": {
   "codemirror_mode": {
    "name": "ipython",
    "version": 3
   },
   "file_extension": ".py",
   "mimetype": "text/x-python",
   "name": "python",
   "nbconvert_exporter": "python",
   "pygments_lexer": "ipython3",
   "version": "3.6.3"
  }
 },
 "nbformat": 4,
 "nbformat_minor": 2
}
